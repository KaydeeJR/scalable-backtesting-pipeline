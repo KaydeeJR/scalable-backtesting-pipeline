{
 "cells": [
  {
   "cell_type": "code",
   "execution_count": 1,
   "metadata": {},
   "outputs": [],
   "source": [
    "#Import python libraries\n",
    "import pandas as pd\n",
    "import numpy as np\n",
    "import matplotlib.pyplot as plt\n",
    "import seaborn as sns\n",
    "import sys, os\n",
    "import warnings"
   ]
  },
  {
   "cell_type": "code",
   "execution_count": 2,
   "metadata": {},
   "outputs": [],
   "source": [
    "#load the data\n",
    "data = pd.read_csv('../data/BTC-USD.csv')"
   ]
  },
  {
   "cell_type": "code",
   "execution_count": 3,
   "metadata": {},
   "outputs": [
    {
     "data": {
      "text/html": [
       "<div>\n",
       "<style scoped>\n",
       "    .dataframe tbody tr th:only-of-type {\n",
       "        vertical-align: middle;\n",
       "    }\n",
       "\n",
       "    .dataframe tbody tr th {\n",
       "        vertical-align: top;\n",
       "    }\n",
       "\n",
       "    .dataframe thead th {\n",
       "        text-align: right;\n",
       "    }\n",
       "</style>\n",
       "<table border=\"1\" class=\"dataframe\">\n",
       "  <thead>\n",
       "    <tr style=\"text-align: right;\">\n",
       "      <th></th>\n",
       "      <th>Date</th>\n",
       "      <th>Open</th>\n",
       "      <th>High</th>\n",
       "      <th>Low</th>\n",
       "      <th>Close</th>\n",
       "      <th>Adj Close</th>\n",
       "      <th>Volume</th>\n",
       "    </tr>\n",
       "  </thead>\n",
       "  <tbody>\n",
       "    <tr>\n",
       "      <th>0</th>\n",
       "      <td>2021-10-11</td>\n",
       "      <td>54734.125000</td>\n",
       "      <td>57793.039063</td>\n",
       "      <td>54519.765625</td>\n",
       "      <td>57484.789063</td>\n",
       "      <td>57484.789063</td>\n",
       "      <td>42637331698</td>\n",
       "    </tr>\n",
       "    <tr>\n",
       "      <th>1</th>\n",
       "      <td>2021-10-12</td>\n",
       "      <td>57526.832031</td>\n",
       "      <td>57627.878906</td>\n",
       "      <td>54477.972656</td>\n",
       "      <td>56041.058594</td>\n",
       "      <td>56041.058594</td>\n",
       "      <td>41083758949</td>\n",
       "    </tr>\n",
       "    <tr>\n",
       "      <th>2</th>\n",
       "      <td>2021-10-13</td>\n",
       "      <td>56038.257813</td>\n",
       "      <td>57688.660156</td>\n",
       "      <td>54370.972656</td>\n",
       "      <td>57401.097656</td>\n",
       "      <td>57401.097656</td>\n",
       "      <td>41684252783</td>\n",
       "    </tr>\n",
       "    <tr>\n",
       "      <th>3</th>\n",
       "      <td>2021-10-14</td>\n",
       "      <td>57372.832031</td>\n",
       "      <td>58478.734375</td>\n",
       "      <td>56957.074219</td>\n",
       "      <td>57321.523438</td>\n",
       "      <td>57321.523438</td>\n",
       "      <td>36615791366</td>\n",
       "    </tr>\n",
       "    <tr>\n",
       "      <th>4</th>\n",
       "      <td>2021-10-15</td>\n",
       "      <td>57345.902344</td>\n",
       "      <td>62757.128906</td>\n",
       "      <td>56868.144531</td>\n",
       "      <td>61593.949219</td>\n",
       "      <td>61593.949219</td>\n",
       "      <td>51780081801</td>\n",
       "    </tr>\n",
       "  </tbody>\n",
       "</table>\n",
       "</div>"
      ],
      "text/plain": [
       "         Date          Open          High           Low         Close  \\\n",
       "0  2021-10-11  54734.125000  57793.039063  54519.765625  57484.789063   \n",
       "1  2021-10-12  57526.832031  57627.878906  54477.972656  56041.058594   \n",
       "2  2021-10-13  56038.257813  57688.660156  54370.972656  57401.097656   \n",
       "3  2021-10-14  57372.832031  58478.734375  56957.074219  57321.523438   \n",
       "4  2021-10-15  57345.902344  62757.128906  56868.144531  61593.949219   \n",
       "\n",
       "      Adj Close       Volume  \n",
       "0  57484.789063  42637331698  \n",
       "1  56041.058594  41083758949  \n",
       "2  57401.097656  41684252783  \n",
       "3  57321.523438  36615791366  \n",
       "4  61593.949219  51780081801  "
      ]
     },
     "execution_count": 3,
     "metadata": {},
     "output_type": "execute_result"
    }
   ],
   "source": [
    "data.head()"
   ]
  },
  {
   "cell_type": "code",
   "execution_count": 4,
   "metadata": {},
   "outputs": [
    {
     "data": {
      "text/plain": [
       "Index(['Date', 'Open', 'High', 'Low', 'Close', 'Adj Close', 'Volume'], dtype='object')"
      ]
     },
     "execution_count": 4,
     "metadata": {},
     "output_type": "execute_result"
    }
   ],
   "source": [
    "#list of columns\n",
    "data.columns"
   ]
  },
  {
   "cell_type": "code",
   "execution_count": 5,
   "metadata": {},
   "outputs": [
    {
     "name": "stdout",
     "output_type": "stream",
     "text": [
      "<class 'pandas.core.frame.DataFrame'>\n",
      "RangeIndex: 366 entries, 0 to 365\n",
      "Data columns (total 7 columns):\n",
      "Date         366 non-null object\n",
      "Open         366 non-null float64\n",
      "High         366 non-null float64\n",
      "Low          366 non-null float64\n",
      "Close        366 non-null float64\n",
      "Adj Close    366 non-null float64\n",
      "Volume       366 non-null int64\n",
      "dtypes: float64(5), int64(1), object(1)\n",
      "memory usage: 20.1+ KB\n"
     ]
    }
   ],
   "source": [
    "data.info()"
   ]
  },
  {
   "cell_type": "code",
   "execution_count": null,
   "metadata": {},
   "outputs": [],
   "source": []
  }
 ],
 "metadata": {
  "kernelspec": {
   "display_name": "Python 3.10.6 64-bit",
   "language": "python",
   "name": "python3"
  },
  "language_info": {
   "codemirror_mode": {
    "name": "ipython",
    "version": 3
   },
   "file_extension": ".py",
   "mimetype": "text/x-python",
   "name": "python",
   "nbconvert_exporter": "python",
   "pygments_lexer": "ipython3",
   "version": "3.8.10"
  },
  "orig_nbformat": 4,
  "vscode": {
   "interpreter": {
    "hash": "916dbcbb3f70747c44a77c7bcd40155683ae19c65e1c03b4aa3499c5328201f1"
   }
  }
 },
 "nbformat": 4,
 "nbformat_minor": 2
}
